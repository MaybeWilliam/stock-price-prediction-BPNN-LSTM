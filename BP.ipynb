{
 "cells": [
  {
   "cell_type": "code",
   "execution_count": 17,
   "metadata": {},
   "outputs": [],
   "source": [
    "import numpy as np\n",
    "import pandas as pd\n",
    "import matplotlib.pyplot as plt\n",
    "#导入必要的库"
   ]
  },
  {
   "cell_type": "code",
   "execution_count": 18,
   "metadata": {},
   "outputs": [
    {
     "data": {
      "text/html": [
       "<div>\n",
       "<style scoped>\n",
       "    .dataframe tbody tr th:only-of-type {\n",
       "        vertical-align: middle;\n",
       "    }\n",
       "\n",
       "    .dataframe tbody tr th {\n",
       "        vertical-align: top;\n",
       "    }\n",
       "\n",
       "    .dataframe thead th {\n",
       "        text-align: right;\n",
       "    }\n",
       "</style>\n",
       "<table border=\"1\" class=\"dataframe\">\n",
       "  <thead>\n",
       "    <tr style=\"text-align: right;\">\n",
       "      <th></th>\n",
       "      <th>开盘</th>\n",
       "      <th>最高</th>\n",
       "      <th>最低</th>\n",
       "      <th>收盘</th>\n",
       "      <th>涨幅</th>\n",
       "      <th>振幅</th>\n",
       "      <th>总手</th>\n",
       "      <th>金额</th>\n",
       "      <th>换手%</th>\n",
       "      <th>成交次数</th>\n",
       "      <th>target</th>\n",
       "    </tr>\n",
       "  </thead>\n",
       "  <tbody>\n",
       "    <tr>\n",
       "      <th>6920</th>\n",
       "      <td>1630.46</td>\n",
       "      <td>1665.46</td>\n",
       "      <td>1614.20</td>\n",
       "      <td>1656.71</td>\n",
       "      <td>0.036</td>\n",
       "      <td>0.0321</td>\n",
       "      <td>118020026</td>\n",
       "      <td>1472909400</td>\n",
       "      <td>0.608</td>\n",
       "      <td>67052</td>\n",
       "      <td>1689.22</td>\n",
       "    </tr>\n",
       "    <tr>\n",
       "      <th>6921</th>\n",
       "      <td>1690.47</td>\n",
       "      <td>1714.22</td>\n",
       "      <td>1667.96</td>\n",
       "      <td>1689.22</td>\n",
       "      <td>0.0196</td>\n",
       "      <td>0.0279</td>\n",
       "      <td>113695774</td>\n",
       "      <td>1467535000</td>\n",
       "      <td>0.586</td>\n",
       "      <td>60751</td>\n",
       "      <td>1712.97</td>\n",
       "    </tr>\n",
       "    <tr>\n",
       "      <th>6922</th>\n",
       "      <td>1677.96</td>\n",
       "      <td>1747.98</td>\n",
       "      <td>1670.46</td>\n",
       "      <td>1712.97</td>\n",
       "      <td>0.0141</td>\n",
       "      <td>0.0459</td>\n",
       "      <td>107519243</td>\n",
       "      <td>1408651100</td>\n",
       "      <td>0.554</td>\n",
       "      <td>59522</td>\n",
       "      <td>1724.22</td>\n",
       "    </tr>\n",
       "    <tr>\n",
       "      <th>6923</th>\n",
       "      <td>1736.72</td>\n",
       "      <td>1752.98</td>\n",
       "      <td>1715.47</td>\n",
       "      <td>1724.22</td>\n",
       "      <td>0.0066</td>\n",
       "      <td>0.0219</td>\n",
       "      <td>65301888</td>\n",
       "      <td>861618660</td>\n",
       "      <td>0.337</td>\n",
       "      <td>38464</td>\n",
       "      <td>1697.97</td>\n",
       "    </tr>\n",
       "    <tr>\n",
       "      <th>6924</th>\n",
       "      <td>1686.72</td>\n",
       "      <td>1710.47</td>\n",
       "      <td>1675.46</td>\n",
       "      <td>1697.97</td>\n",
       "      <td>-0.0152</td>\n",
       "      <td>0.0203</td>\n",
       "      <td>66173879</td>\n",
       "      <td>852956240</td>\n",
       "      <td>0.341</td>\n",
       "      <td>37324</td>\n",
       "      <td>1680.46</td>\n",
       "    </tr>\n",
       "  </tbody>\n",
       "</table>\n",
       "</div>"
      ],
      "text/plain": [
       "           开盘       最高       最低       收盘      涨幅      振幅         总手  \\\n",
       "6920  1630.46  1665.46  1614.20  1656.71   0.036  0.0321  118020026   \n",
       "6921  1690.47  1714.22  1667.96  1689.22  0.0196  0.0279  113695774   \n",
       "6922  1677.96  1747.98  1670.46  1712.97  0.0141  0.0459  107519243   \n",
       "6923  1736.72  1752.98  1715.47  1724.22  0.0066  0.0219   65301888   \n",
       "6924  1686.72  1710.47  1675.46  1697.97 -0.0152  0.0203   66173879   \n",
       "\n",
       "              金额    换手%   成交次数   target  \n",
       "6920  1472909400  0.608  67052  1689.22  \n",
       "6921  1467535000  0.586  60751  1712.97  \n",
       "6922  1408651100  0.554  59522  1724.22  \n",
       "6923   861618660  0.337  38464  1697.97  \n",
       "6924   852956240  0.341  37324  1680.46  "
      ]
     },
     "execution_count": 18,
     "metadata": {},
     "output_type": "execute_result"
    }
   ],
   "source": [
    "#读取数据，0对应第一支股票，1对应第二只，以此类推\n",
    "df1=pd.read_excel('data.xlsx',0) \n",
    "df1=df1.iloc[3600:-10,1:]#选取从第3600行开始的数据 大概是2006年一月\n",
    "df1.tail()"
   ]
  },
  {
   "cell_type": "code",
   "execution_count": 19,
   "metadata": {},
   "outputs": [
    {
     "name": "stdout",
     "output_type": "stream",
     "text": [
      "(3325, 10)\n",
      "(3325,)\n"
     ]
    }
   ],
   "source": [
    "#进行数据归一化\n",
    "from sklearn import preprocessing\n",
    "min_max_scaler = preprocessing.MinMaxScaler()\n",
    "df0=min_max_scaler.fit_transform(df1)\n",
    "df = pd.DataFrame(df0, columns=df1.columns)\n",
    "X=df.iloc[:,:-1]\n",
    "y=df['target']#切片是前闭后开[)\n",
    "print(X.shape)\n",
    "print(y.shape)"
   ]
  },
  {
   "cell_type": "code",
   "execution_count": 20,
   "metadata": {},
   "outputs": [
    {
     "name": "stdout",
     "output_type": "stream",
     "text": [
      "33150\n",
      "100\n",
      "3315\n",
      "10\n"
     ]
    }
   ],
   "source": [
    "#构造训练集测试集 \n",
    "y=pd.DataFrame(y.values,columns=['goal'])\n",
    "x=X\n",
    "cut=10#取最后cut=10天为测试集\n",
    "X_train, X_test=x.iloc[:-cut],x.iloc[-cut:]#列表的切片操作，X.iloc[0:2400，0:7]即为1-2400行，1-7列\n",
    "y_train, y_test=y.iloc[:-cut],y.iloc[-cut:]\n",
    "X_train,X_test,y_train,y_test=X_train.values,X_test.values,y_train.values,y_test.values\n",
    "print(X_train.size)#通过输出训练集测试集的大小来判断数据格式正确。\n",
    "print(X_test.size)\n",
    "print(y_train.size)\n",
    "print(y_test.size)"
   ]
  },
  {
   "cell_type": "code",
   "execution_count": 21,
   "metadata": {},
   "outputs": [
    {
     "name": "stdout",
     "output_type": "stream",
     "text": [
      "Epoch 1/50\n",
      "13/13 [==============================] - 1s 2ms/step - loss: 0.1500\n",
      "Epoch 2/50\n",
      "13/13 [==============================] - 0s 3ms/step - loss: 0.1140\n",
      "Epoch 3/50\n",
      "13/13 [==============================] - 0s 2ms/step - loss: 0.0839\n",
      "Epoch 4/50\n",
      "13/13 [==============================] - 0s 8ms/step - loss: 0.0613\n",
      "Epoch 5/50\n",
      "13/13 [==============================] - 0s 2ms/step - loss: 0.0457\n",
      "Epoch 6/50\n",
      "13/13 [==============================] - 0s 2ms/step - loss: 0.0366\n",
      "Epoch 7/50\n",
      "13/13 [==============================] - 0s 2ms/step - loss: 0.0316\n",
      "Epoch 8/50\n",
      "13/13 [==============================] - 0s 2ms/step - loss: 0.0286\n",
      "Epoch 9/50\n",
      "13/13 [==============================] - 0s 2ms/step - loss: 0.0265\n",
      "Epoch 10/50\n",
      "13/13 [==============================] - 0s 2ms/step - loss: 0.0246\n",
      "Epoch 11/50\n",
      "13/13 [==============================] - 0s 2ms/step - loss: 0.0227\n",
      "Epoch 12/50\n",
      "13/13 [==============================] - 0s 4ms/step - loss: 0.0209\n",
      "Epoch 13/50\n",
      "13/13 [==============================] - 0s 6ms/step - loss: 0.0191\n",
      "Epoch 14/50\n",
      "13/13 [==============================] - 0s 4ms/step - loss: 0.0172\n",
      "Epoch 15/50\n",
      "13/13 [==============================] - 0s 3ms/step - loss: 0.0154\n",
      "Epoch 16/50\n",
      "13/13 [==============================] - 0s 3ms/step - loss: 0.0137\n",
      "Epoch 17/50\n",
      "13/13 [==============================] - 0s 3ms/step - loss: 0.0120\n",
      "Epoch 18/50\n",
      "13/13 [==============================] - 0s 3ms/step - loss: 0.0105\n",
      "Epoch 19/50\n",
      "13/13 [==============================] - 0s 3ms/step - loss: 0.0091\n",
      "Epoch 20/50\n",
      "13/13 [==============================] - 0s 4ms/step - loss: 0.0079\n",
      "Epoch 21/50\n",
      "13/13 [==============================] - 0s 3ms/step - loss: 0.0068\n",
      "Epoch 22/50\n",
      "13/13 [==============================] - 0s 3ms/step - loss: 0.0059\n",
      "Epoch 23/50\n",
      "13/13 [==============================] - 0s 4ms/step - loss: 0.0052\n",
      "Epoch 24/50\n",
      "13/13 [==============================] - 0s 3ms/step - loss: 0.0046\n",
      "Epoch 25/50\n",
      "13/13 [==============================] - 0s 5ms/step - loss: 0.0041\n",
      "Epoch 26/50\n",
      "13/13 [==============================] - 0s 2ms/step - loss: 0.0037\n",
      "Epoch 27/50\n",
      "13/13 [==============================] - 0s 2ms/step - loss: 0.0034\n",
      "Epoch 28/50\n",
      "13/13 [==============================] - 0s 2ms/step - loss: 0.0032\n",
      "Epoch 29/50\n",
      "13/13 [==============================] - 0s 2ms/step - loss: 0.0030\n",
      "Epoch 30/50\n",
      "13/13 [==============================] - 0s 3ms/step - loss: 0.0028\n",
      "Epoch 31/50\n",
      "13/13 [==============================] - 0s 3ms/step - loss: 0.0026\n",
      "Epoch 32/50\n",
      "13/13 [==============================] - 0s 4ms/step - loss: 0.0025\n",
      "Epoch 33/50\n",
      "13/13 [==============================] - 0s 5ms/step - loss: 0.0024\n",
      "Epoch 34/50\n",
      "13/13 [==============================] - 0s 3ms/step - loss: 0.0023\n",
      "Epoch 35/50\n",
      "13/13 [==============================] - 0s 3ms/step - loss: 0.0022\n",
      "Epoch 36/50\n",
      "13/13 [==============================] - 0s 2ms/step - loss: 0.0021\n",
      "Epoch 37/50\n",
      "13/13 [==============================] - 0s 2ms/step - loss: 0.0021\n",
      "Epoch 38/50\n",
      "13/13 [==============================] - 0s 3ms/step - loss: 0.0020\n",
      "Epoch 39/50\n",
      "13/13 [==============================] - 0s 2ms/step - loss: 0.0019\n",
      "Epoch 40/50\n",
      "13/13 [==============================] - 0s 2ms/step - loss: 0.0019\n",
      "Epoch 41/50\n",
      "13/13 [==============================] - 0s 3ms/step - loss: 0.0018\n",
      "Epoch 42/50\n",
      "13/13 [==============================] - 0s 3ms/step - loss: 0.0018\n",
      "Epoch 43/50\n",
      "13/13 [==============================] - 0s 3ms/step - loss: 0.0017\n",
      "Epoch 44/50\n",
      "13/13 [==============================] - 0s 2ms/step - loss: 0.0017\n",
      "Epoch 45/50\n",
      "13/13 [==============================] - 0s 2ms/step - loss: 0.0016\n",
      "Epoch 46/50\n",
      "13/13 [==============================] - 0s 2ms/step - loss: 0.0016\n",
      "Epoch 47/50\n",
      "13/13 [==============================] - 0s 3ms/step - loss: 0.0015\n",
      "Epoch 48/50\n",
      "13/13 [==============================] - 0s 4ms/step - loss: 0.0015\n",
      "Epoch 49/50\n",
      "13/13 [==============================] - 0s 11ms/step - loss: 0.0014\n",
      "Epoch 50/50\n",
      "13/13 [==============================] - 0s 2ms/step - loss: 0.0014\n"
     ]
    },
    {
     "data": {
      "text/plain": [
       "<keras.callbacks.History at 0x12e6b4dc0>"
      ]
     },
     "execution_count": 21,
     "metadata": {},
     "output_type": "execute_result"
    }
   ],
   "source": [
    "#建立bp模型 训练 \n",
    "from keras.models import Sequential\n",
    "from keras.layers.core import Dense, Activation\n",
    "from keras.optimizers import Adam\n",
    "model = Sequential()  #层次模型\n",
    "model.add(Dense(16,input_dim=10,kernel_initializer='uniform')) #输入层，Dense表示BP层\n",
    "model.add(Activation('relu'))  #添加激活函数\n",
    "model.add(Dense(4,bias_initializer='uniform',)) #中间层\n",
    "model.add(Activation('sigmoid'))  #添加激活函数\n",
    "model.add(Dense(1))  #输出层\n",
    "model.compile(loss='mean_squared_error', optimizer='Adam') #编译模型\n",
    "model.fit(X_train, y_train, epochs = 50, batch_size = 256) #训练模型nb_epoch=50次"
   ]
  },
  {
   "cell_type": "code",
   "execution_count": 22,
   "metadata": {},
   "outputs": [
    {
     "name": "stdout",
     "output_type": "stream",
     "text": [
      "Model: \"sequential_6\"\n",
      "_________________________________________________________________\n",
      " Layer (type)                Output Shape              Param #   \n",
      "=================================================================\n",
      " dense_7 (Dense)             (None, 16)                176       \n",
      "                                                                 \n",
      " activation_5 (Activation)   (None, 16)                0         \n",
      "                                                                 \n",
      " dense_8 (Dense)             (None, 4)                 68        \n",
      "                                                                 \n",
      " activation_6 (Activation)   (None, 4)                 0         \n",
      "                                                                 \n",
      " dense_9 (Dense)             (None, 1)                 5         \n",
      "                                                                 \n",
      "=================================================================\n",
      "Total params: 249\n",
      "Trainable params: 249\n",
      "Non-trainable params: 0\n",
      "_________________________________________________________________\n"
     ]
    }
   ],
   "source": [
    "model.summary()#模型描述"
   ]
  },
  {
   "cell_type": "code",
   "execution_count": 23,
   "metadata": {},
   "outputs": [
    {
     "name": "stdout",
     "output_type": "stream",
     "text": [
      "104/104 [==============================] - 0s 2ms/step\n"
     ]
    }
   ],
   "source": [
    "#在训练集上的拟合结果\n",
    "y_train_predict=model.predict(X_train)\n",
    "y_train_predict=y_train_predict[:,0]\n",
    "y_train=y_train"
   ]
  },
  {
   "cell_type": "code",
   "execution_count": 24,
   "metadata": {},
   "outputs": [
    {
     "data": {
      "text/plain": [
       "Text(0.5, 1.0, 'Train Data')"
      ]
     },
     "execution_count": 24,
     "metadata": {},
     "output_type": "execute_result"
    },
    {
     "data": {
      "image/png": "[encoded data removed]",
      "text/plain": [
       "<Figure size 864x432 with 1 Axes>"
      ]
     },
     "metadata": {
      "needs_background": "light"
     },
     "output_type": "display_data"
    }
   ],
   "source": [
    "draw=pd.concat([pd.DataFrame(y_train),pd.DataFrame(y_train_predict)],axis=1)\n",
    "draw.iloc[100:400,0].plot(figsize=(12,6))\n",
    "draw.iloc[100:400,1].plot(figsize=(12,6))\n",
    "plt.legend(('real', 'predict'),fontsize='15')\n",
    "plt.title(\"Train Data\",fontsize='30') #添加标题\n",
    "#展示在训练集上的表现 "
   ]
  },
  {
   "cell_type": "code",
   "execution_count": 25,
   "metadata": {},
   "outputs": [
    {
     "name": "stdout",
     "output_type": "stream",
     "text": [
      "1/1 [==============================] - 0s 22ms/step\n"
     ]
    }
   ],
   "source": [
    "#在测试集上的预测\n",
    "y_test_predict=model.predict(X_test)\n",
    "y_test_predict=y_test_predict[:,0]"
   ]
  },
  {
   "cell_type": "code",
   "execution_count": 26,
   "metadata": {},
   "outputs": [
    {
     "data": {
      "text/plain": [
       "Text(0.5, 1.0, 'Test Data')"
      ]
     },
     "execution_count": 26,
     "metadata": {},
     "output_type": "execute_result"
    },
    {
     "data": {
      "image/png": "[encoded data removed]",
      "text/plain": [
       "<Figure size 864x432 with 1 Axes>"
      ]
     },
     "metadata": {
      "needs_background": "light"
     },
     "output_type": "display_data"
    }
   ],
   "source": [
    "draw=pd.concat([pd.DataFrame(y_test),pd.DataFrame(y_test_predict)],axis=1);\n",
    "draw.iloc[:,0].plot(figsize=(12,6))\n",
    "draw.iloc[:,1].plot(figsize=(12,6))\n",
    "plt.legend(('real', 'predict'),loc='upper right',fontsize='15')\n",
    "plt.title(\"Test Data\",fontsize='30') #添加标题\n",
    "#展示在测试集上的表现 "
   ]
  },
  {
   "cell_type": "code",
   "execution_count": 27,
   "metadata": {},
   "outputs": [
    {
     "name": "stdout",
     "output_type": "stream",
     "text": [
      "训练集上的MAE/MSE/MAPE\n",
      "0.024248698844415884\n",
      "0.0013766094025236021\n",
      "238.635827959685\n",
      "测试集上的MAE/MSE/MAPE\n",
      "0.0284227768570527\n",
      "0.001101967134011044\n",
      "3.8536662447164223\n",
      "预测涨跌正确: 0.6666666666666666\n"
     ]
    }
   ],
   "source": [
    "#输出结果\n",
    "from sklearn.metrics import mean_absolute_error\n",
    "from sklearn.metrics import mean_squared_error\n",
    "import math\n",
    "def mape(y_true, y_pred):\n",
    "    return np.mean(np.abs((y_pred - y_true) / y_true)) * 100\n",
    "print('训练集上的MAE/MSE/MAPE')\n",
    "print(mean_absolute_error(y_train_predict, y_train))\n",
    "print(mean_squared_error(y_train_predict, y_train) )\n",
    "print(mape(y_train_predict, y_train) )\n",
    "print('测试集上的MAE/MSE/MAPE')\n",
    "print(mean_absolute_error(y_test_predict, y_test))\n",
    "print(mean_squared_error(y_test_predict, y_test) )\n",
    "print(mape(y_test_predict, y_test) )\n",
    "y_var_test=y_test[1:]-y_test[:len(y_test)-1]\n",
    "y_var_predict=y_test_predict[1:]-y_test_predict[:len(y_test_predict)-1]\n",
    "txt=np.zeros(len(y_var_test))\n",
    "for i in range(len(y_var_test-1)):\n",
    "    txt[i]=np.sign(y_var_test[i])==np.sign(y_var_predict[i])\n",
    "result=sum(txt)/len(txt)\n",
    "print('预测涨跌正确:',result)"
   ]
  }
 ],
 "metadata": {
  "interpreter": {
   "hash": "31f2aee4e71d21fbe5cf8b01ff0e069b9275f58929596ceb00d14d90e3e16cd6"
  },
  "kernelspec": {
   "display_name": "Python 3.8.9 64-bit",
   "language": "python",
   "name": "python3"
  },
  "language_info": {
   "codemirror_mode": {
    "name": "ipython",
    "version": 3
   },
   "file_extension": ".py",
   "mimetype": "text/x-python",
   "name": "python",
   "nbconvert_exporter": "python",
   "pygments_lexer": "ipython3",
   "version": "3.8.9"
  }
 },
 "nbformat": 4,
 "nbformat_minor": 2
}
